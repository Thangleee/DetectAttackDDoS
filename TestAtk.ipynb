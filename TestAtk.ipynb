{
  "nbformat": 4,
  "nbformat_minor": 0,
  "metadata": {
    "colab": {
      "provenance": [],
      "mount_file_id": "1514ZJumf7OJG645pcXvWqz3PCZJgDKYE",
      "authorship_tag": "ABX9TyNsG6BuH8/nh69zbJ8E3g45",
      "include_colab_link": true
    },
    "kernelspec": {
      "name": "python3",
      "display_name": "Python 3"
    },
    "language_info": {
      "name": "python"
    }
  },
  "cells": [
    {
      "cell_type": "markdown",
      "metadata": {
        "id": "view-in-github",
        "colab_type": "text"
      },
      "source": [
        "<a href=\"https://colab.research.google.com/github/Thangleee/DetectAttackDDoS/blob/main/TestAtk.ipynb\" target=\"_parent\"><img src=\"https://colab.research.google.com/assets/colab-badge.svg\" alt=\"Open In Colab\"/></a>"
      ]
    },
    {
      "cell_type": "code",
      "source": [
        "import numpy as np\n",
        "import joblib, pandas as pd, numpy as np\n",
        "from sklearn.metrics import classification_report, confusion_matrix\n",
        "import matplotlib.pyplot as plt, seaborn as sns"
      ],
      "metadata": {
        "id": "pUUdFQ8DxsAn"
      },
      "execution_count": 43,
      "outputs": []
    },
    {
      "cell_type": "code",
      "execution_count": 46,
      "metadata": {
        "id": "cDcFD6xbveZM"
      },
      "outputs": [],
      "source": [
        "rf_model     = joblib.load(\"/content/drive/MyDrive/DA/data_rf_model.pkl\")\n",
        "scaler       = joblib.load(\"/content/drive/MyDrive/DA/scaler.pkl\")\n",
        "feature_list = joblib.load(\"/content/drive/MyDrive/DA/feature_list.pkl\")"
      ]
    },
    {
      "cell_type": "code",
      "source": [
        "df_test = pd.read_csv(\"/content/drive/MyDrive/DA/data/my_test_datasets.csv\")\n"
      ],
      "metadata": {
        "id": "lGI0HPJmyGux"
      },
      "execution_count": 47,
      "outputs": []
    },
    {
      "cell_type": "code",
      "source": [
        "drop_cols = [\"Flow ID\", \"Src IP\", \"Dst IP\", \"Timestamp\"]\n",
        "df_test = df_test.drop(columns=drop_cols, errors=\"ignore\")"
      ],
      "metadata": {
        "id": "yeVFLLBa0pkk"
      },
      "execution_count": 48,
      "outputs": []
    },
    {
      "cell_type": "code",
      "source": [
        "df_test[\"label\"] = df_test[\"Label\"].apply(lambda x: 1 if x == \"DDoS\" else 0)"
      ],
      "metadata": {
        "id": "LCprn7sh3uOD"
      },
      "execution_count": 49,
      "outputs": []
    },
    {
      "cell_type": "code",
      "source": [
        "X_real = df_test.drop(columns=[\"Flow ID\", \"Src IP\", \"Dst IP\", \"Timestamp\", \"Label\"], errors=\"ignore\")\n",
        "y_real = (df_test[\"Label\"] == \"DDoS\").astype(int)"
      ],
      "metadata": {
        "id": "-GBAxJBzvfCt"
      },
      "execution_count": 50,
      "outputs": []
    },
    {
      "cell_type": "code",
      "source": [
        "for col in feature_list:\n",
        "    if col not in df_test.columns:\n",
        "        df_test[col] = 0\n",
        "X_real = df_test[feature_list]\n",
        "y_real = df_test[\"label\"]"
      ],
      "metadata": {
        "id": "2GT5oUrvvknA"
      },
      "execution_count": 51,
      "outputs": []
    },
    {
      "cell_type": "code",
      "source": [
        "label_counts = df_test[\"Label\"].value_counts()\n",
        "print(\"Số lượng nhãn trong cột 'label':\")\n",
        "print(label_counts)"
      ],
      "metadata": {
        "colab": {
          "base_uri": "https://localhost:8080/"
        },
        "id": "YG-OQSI9bGk1",
        "outputId": "d515c649-5849-4e76-9cc2-b604233697b0"
      },
      "execution_count": 52,
      "outputs": [
        {
          "output_type": "stream",
          "name": "stdout",
          "text": [
            "Số lượng nhãn trong cột 'label':\n",
            "Label\n",
            "BENIGN    72204\n",
            "DDoS      65229\n",
            "Name: count, dtype: int64\n"
          ]
        }
      ]
    },
    {
      "cell_type": "code",
      "source": [
        "mask_good = np.isfinite(X_real).all(axis=1)\n",
        "X_real, y_real = X_real[mask_good], y_real[mask_good]"
      ],
      "metadata": {
        "id": "0ZI32GJuwO-i"
      },
      "execution_count": 53,
      "outputs": []
    },
    {
      "cell_type": "code",
      "source": [
        "X_real_scaled = scaler.transform(X_real)\n",
        "y_pred = rf_model.predict(X_real_scaled)\n"
      ],
      "metadata": {
        "id": "bkhgnkK9zO7C",
        "colab": {
          "base_uri": "https://localhost:8080/"
        },
        "outputId": "e825e815-8d59-4bb5-9f8c-3d59e8783ed4"
      },
      "execution_count": 54,
      "outputs": [
        {
          "output_type": "stream",
          "name": "stderr",
          "text": [
            "/usr/local/lib/python3.11/dist-packages/sklearn/utils/validation.py:2739: UserWarning: X does not have valid feature names, but RandomForestClassifier was fitted with feature names\n",
            "  warnings.warn(\n"
          ]
        }
      ]
    },
    {
      "cell_type": "code",
      "source": [
        "print(classification_report(y_real, y_pred, target_names=[\"BENIGN\",\"DDoS\"]))\n",
        "\n",
        "cm = confusion_matrix(y_real, y_pred)\n",
        "sns.heatmap(cm, annot=True, fmt=\"d\", cmap=\"Blues\",\n",
        "            xticklabels=[\"BENIGN\",\"DDoS\"], yticklabels=[\"BENIGN\",\"DDoS\"])\n",
        "plt.xlabel(\"Predicted\"); plt.ylabel(\"Actual\"); plt.title(\"Confusion Matrix\"); plt.show()"
      ],
      "metadata": {
        "colab": {
          "base_uri": "https://localhost:8080/",
          "height": 632
        },
        "id": "eCOQmsCW0blh",
        "outputId": "1e449612-9543-4163-f34f-6831f03c73f9"
      },
      "execution_count": 55,
      "outputs": [
        {
          "output_type": "stream",
          "name": "stdout",
          "text": [
            "              precision    recall  f1-score   support\n",
            "\n",
            "      BENIGN       1.00      0.00      0.00     72203\n",
            "        DDoS       0.48      1.00      0.64     65229\n",
            "\n",
            "    accuracy                           0.48    137432\n",
            "   macro avg       0.74      0.50      0.32    137432\n",
            "weighted avg       0.75      0.48      0.31    137432\n",
            "\n"
          ]
        },
        {
          "output_type": "display_data",
          "data": {
            "text/plain": [
              "<Figure size 640x480 with 2 Axes>"
            ],
            "image/png": "[encoded data removed]"
          },
          "metadata": {}
        }
      ]
    },
    {
      "cell_type": "code",
      "source": [],
      "metadata": {
        "id": "7F8Z7imjuFNn"
      },
      "execution_count": null,
      "outputs": []
    }
  ]
}